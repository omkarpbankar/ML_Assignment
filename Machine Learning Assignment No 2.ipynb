{
 "cells": [
  {
   "cell_type": "markdown",
   "id": "60865e1c",
   "metadata": {},
   "source": [
    "## 1.\tWhat is the concept of human learning? Please give two examples."
   ]
  },
  {
   "cell_type": "markdown",
   "id": "148685ab",
   "metadata": {},
   "source": [
    "Human starts learning from birth and continues till death and it improvise with learning from people and their environment interactions. Human develops understanding, skills, values, attitudes, acquire knowledge, behaviours evolve through which he become a good learner. Examples: \n",
    "a. Developing understanding of the psychology, behaviours\n",
    "a. Identifying the animals, reading books \n"
   ]
  },
  {
   "cell_type": "markdown",
   "id": "15ff66f7",
   "metadata": {},
   "source": [
    "## 2. What different forms of human learning are there? Are there any machine learning equivalents?"
   ]
  },
  {
   "cell_type": "markdown",
   "id": "6366fd43",
   "metadata": {},
   "source": [
    "1) Hebbian learning is (Human Learning) <-----> Artificial Neural Network (Machine learning)\n",
    "2) Operant conditioning is (Human learning) <-----> Reinforcement Learning (Machine Learning)\n",
    "3) Concept learning is (Human learning) <----> Supervised Learning (Machine learning)\n"
   ]
  },
  {
   "cell_type": "markdown",
   "id": "8e3c5ffe",
   "metadata": {},
   "source": [
    "## 3. What is machine learning, and how does it work? What are the key responsibilities of machine learning?"
   ]
  },
  {
   "cell_type": "markdown",
   "id": "25a9e09f",
   "metadata": {},
   "source": [
    "Machine learning is a subset of artificial intelligence (AI) which teaches computers to think in a way as humans do: Learning and improving from the past experiences. It improves by exploring data, observing and understanding patterns, and involving minimal human intervention.\n",
    "Key Responsibilities of Machine learning\n",
    "•\tDesigning machine learning programs\n",
    "•\tFine tuning model/ test results\n",
    "•\tPerform statistical analysis\n",
    "•\tWork on various frameworks\n",
    "•\tUndertaking machine learning experiments and test.\n",
    "•\tTrain and retrain model/ systems.\n",
    "•\tApplying deep learning to various use cases as per the business requirement\n"
   ]
  },
  {
   "cell_type": "markdown",
   "id": "fc251f8c",
   "metadata": {},
   "source": [
    "## 4. Define the terms \"penalty\" and \"reward\" in the context of reinforcement learning.\n"
   ]
  },
  {
   "cell_type": "markdown",
   "id": "d79af75d",
   "metadata": {},
   "source": [
    "Penalty: Whenever model performs poorly, fail or predict something wrong then it will penalise the model as a punishment so that this mistake will not repeat again.\n",
    "Reward: Means giving rewards to the model when the model predicts the correct results so that model become aware that it has given correct prediction and can proceed further.\n",
    "Reinforcement learning is a dynamic programming that trains algorithms using a system of reward and punishment. The system/ model learns without or minimum intervention from human by maximizing its reward and minimizing its penalty\n"
   ]
  },
  {
   "cell_type": "markdown",
   "id": "1e4bba95",
   "metadata": {},
   "source": [
    "## 5. Explain the term \"learning as a search\"?"
   ]
  },
  {
   "cell_type": "markdown",
   "id": "30e605ca",
   "metadata": {},
   "source": [
    "If we really wanted to simplify the whole story behind “Learning” in machine learning, we could say that a machine learning algorithm strives to learn a general function out of a given limited training examples. In general, we can think of concept learning as a search problem. The learner searches through a space of hypotheses (we will explain what they are), to find the best one. Which one would be the best one? The answer is the one that fits the training examples the best. And while searching and trying different hypotheses, we would hope for the learner to eventually converge to the correct hypothesis."
   ]
  },
  {
   "cell_type": "markdown",
   "id": "61e159e9",
   "metadata": {},
   "source": [
    "## 6. What are the various goals of machine learning? What is the relationship between these and human learning?"
   ]
  },
  {
   "cell_type": "markdown",
   "id": "1e78d512",
   "metadata": {},
   "source": [
    "Goal of machine learning are as follow: \n",
    "A. To make the computers smarter, more intelligent by predicting best result.\n",
    "B. To develop computational models for human learning and perform computer simulations.\n"
   ]
  },
  {
   "cell_type": "markdown",
   "id": "575c0f04",
   "metadata": {},
   "source": [
    "## 7. Illustrate the various elements of machine learning using a real-life illustration."
   ]
  },
  {
   "cell_type": "markdown",
   "id": "3263e3b6",
   "metadata": {},
   "source": [
    "Machine learning uses various elements to perform in real life. These elements include decision trees, sets of rules or instances, neural networks, graphical models, support vector machines, ensembles model and many more.\n",
    "These elements are very helpful in real life examples like Image Recognition, Speech Recognition, Medical diagnosis, sentiment analysis, sentence correction, and sentence summarisation. \n"
   ]
  },
  {
   "cell_type": "markdown",
   "id": "20851609",
   "metadata": {},
   "source": [
    "## 8. Provide an example of the abstraction method."
   ]
  },
  {
   "cell_type": "code",
   "execution_count": 5,
   "id": "b7743ec6",
   "metadata": {},
   "outputs": [
    {
     "name": "stdout",
     "output_type": "stream",
     "text": [
      "The mileage is 40 Kmpl\n",
      "The mileage is 20 Kmpl\n",
      "The mileage is 10 Kmpl\n"
     ]
    }
   ],
   "source": [
    "from abc import ABC, abstractmethod\n",
    "\n",
    "class car(ABC): \n",
    "\tdef mileage(self):\n",
    "\t\tpass\n",
    "\n",
    "class Tesla(car):\n",
    "\tdef mileage(self):\n",
    "\t\tprint('The mileage is 40 Kmpl')\n",
    "\n",
    "class Honda(car):\n",
    "\tdef mileage(self):\n",
    "\t\tprint('The mileage is 20 Kmpl')\n",
    "\n",
    "class Mercedes(car):\n",
    "\tdef mileage(self):\n",
    "\t\tprint('The mileage is 10 Kmpl')\n",
    "t=Tesla()\n",
    "t.mileage()\n",
    "\n",
    "h=Honda()\n",
    "h.mileage()\n",
    "\n",
    "m=Mercedes()\n",
    "m.mileage()\n"
   ]
  },
  {
   "cell_type": "markdown",
   "id": "4d75909e",
   "metadata": {},
   "source": [
    "## 9. What is the concept of generalization? What function does it play in the machine learning process?"
   ]
  },
  {
   "cell_type": "markdown",
   "id": "1836621c",
   "metadata": {},
   "source": [
    "Generalization demonstrates how well a trained model predict the outcome from the unseen data upon learning from the past data. Training a generalized machine learning model means, it should work well on all subset of unseen or test data.\n",
    "Loss function or cost function play an important role in order to get a generalised model\n"
   ]
  },
  {
   "cell_type": "markdown",
   "id": "ae7ebcd5",
   "metadata": {},
   "source": [
    "## 10. What is classification, exactly? What are the main distinctions between classification and regression?"
   ]
  },
  {
   "cell_type": "markdown",
   "id": "a1462e0f",
   "metadata": {},
   "source": [
    "Classification is the probability based on the given category and decide based on the probability of occurrence of particular observation keeping threshold into consideration.\n",
    "The main difference is that regression is performed on continuous dataset and classification is performed on categorical problem. Classification is performed using logistic regression and we use softmax activation function for multiclass classification."
   ]
  },
  {
   "cell_type": "markdown",
   "id": "09a32287",
   "metadata": {},
   "source": [
    "## 11. What is regression, and how does it work? Give an example of a real-world problem that was solved using regression."
   ]
  },
  {
   "cell_type": "markdown",
   "id": "fa43de24",
   "metadata": {},
   "source": [
    "It is a technique which finds out the best possible relationship between the independent and dependent feature.\n",
    "For example, Predicting the sales of the company using the past trends and applying linear regression technique.\n"
   ]
  },
  {
   "cell_type": "markdown",
   "id": "fddac18c",
   "metadata": {},
   "source": [
    "## 12. Describe the clustering mechanism in detail."
   ]
  },
  {
   "cell_type": "markdown",
   "id": "3dfa6e46",
   "metadata": {},
   "source": [
    "Clustering is an unsupervised learning. Clustering is technique of dividing data into a number of groups such that data points in the same group are more similar to each other and maximum dis-similarity among other groups. Grouping unlabelled examples is called clustering. Clustering Algorithms – DBSCAN, K means."
   ]
  },
  {
   "cell_type": "markdown",
   "id": "0b33cc34",
   "metadata": {},
   "source": [
    "## 13. Make brief observations on two of the following topics:"
   ]
  },
  {
   "cell_type": "markdown",
   "id": "3f340754",
   "metadata": {},
   "source": [
    "i. Machine learning algorithms are used to predict the outcome based on the task it can be perform on regression and classification dataset. "
   ]
  }
 ],
 "metadata": {
  "kernelspec": {
   "display_name": "Python 3 (ipykernel)",
   "language": "python",
   "name": "python3"
  },
  "language_info": {
   "codemirror_mode": {
    "name": "ipython",
    "version": 3
   },
   "file_extension": ".py",
   "mimetype": "text/x-python",
   "name": "python",
   "nbconvert_exporter": "python",
   "pygments_lexer": "ipython3",
   "version": "3.9.12"
  }
 },
 "nbformat": 4,
 "nbformat_minor": 5
}
