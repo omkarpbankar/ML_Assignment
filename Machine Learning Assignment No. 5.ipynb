{
 "cells": [
  {
   "cell_type": "markdown",
   "metadata": {},
   "source": [
    "**1. What are the key tasks that machine learning entails? What does data pre-processing imply?**"
   ]
  },
  {
   "cell_type": "markdown",
   "metadata": {},
   "source": [
    "**Solution:-**\n",
    "Key tasks under machine learning are\n",
    "\n",
    "1. Defining an objective\n",
    "2. Collection of data- The first step in the Machine Learning process is getting data.\n",
    "3. Data preprocessing- Cleaning, Preparing & Manipulating Data: Real-world data often has unorganized, missing, or noisy elements.\n",
    "4. Choose the model - by testing various experiments finalizing one model\n",
    "5. Train model\n",
    "6. Evaluate using performance\n",
    "7. Tune the hyperparameters for best performance\n",
    "8. Produce results\n",
    "\n",
    "Data Pre-processing includes steps to make data ready to be used for machine learning modeling. It includes, but is not limited to data cleaning, standardizing of keywords or headers, taking care of missing values and outliers.\n",
    "\n",
    "The Goal of Data Validation is to assess whether the data in question is both complete and accurate.\n",
    "The Goal of Data Imputation is to correct errors and input missing values, Either Manually or Automatically through business process automation (BPA) programming."
   ]
  },
  {
   "cell_type": "markdown",
   "metadata": {},
   "source": [
    "**2. Describe quantitative and qualitative data in depth. Make a distinction between the two.**"
   ]
  },
  {
   "cell_type": "markdown",
   "metadata": {},
   "source": [
    "**Solution:-**\n",
    "\n",
    "The Data Type is of two types:\n",
    "\n",
    "1. Quantitative\n",
    "2. Qualitative\n",
    "\n",
    "**Quantitative data** is numerical in nature and has order and mathematical meaning to it. It can be of two types\n",
    "\n",
    "1. **Discrete quantitative** data This type of data has values that come from a countably finite or uncountably finite set. For example: number of planets, number of cars. It is generally visualized using bar plots.\n",
    "\n",
    "2. **Continous quantitative** data This type of data has values that come from uncountably infinite sets. For example: heights of Indians. It is generally visualized using histograms. For Ex- 4.5m\n",
    "\n",
    "**Qualitative data** can be numerical or string in nature, does not necessarily have order and cannot possess mathematical meaning. For example: Blood groups, Grades etc.\n",
    "\n",
    "1. **Nominal qualitative** data This type of data is mostly used to label data points based on other characteristics. Nominal data cannot be ordered in any way. For example: Classification of flowers into sub species based on characteristics like sepal length etc.\n",
    "\n",
    "2. **Ordinal qualitative** data This type of data is one that can be ordered. For example: (Slow, Medium and High)."
   ]
  },
  {
   "cell_type": "markdown",
   "metadata": {},
   "source": [
    "**3. Create a basic data collection that includes some sample records. Have at least one attribute from each of the machine learning data types.**"
   ]
  },
  {
   "cell_type": "markdown",
   "metadata": {},
   "source": [
    "**Solution:-**"
   ]
  },
  {
   "cell_type": "code",
   "execution_count": 1,
   "metadata": {},
   "outputs": [
    {
     "data": {
      "text/plain": [
       "{'names': {'Gourav, Nitesh, Rishi'},\n",
       " 'marks': {105, 110, 350},\n",
       " 'date': {'Feb,2021', 'Jan,2021'},\n",
       " 'grade': {'C', 'D'}}"
      ]
     },
     "execution_count": 1,
     "metadata": {},
     "output_type": "execute_result"
    }
   ],
   "source": [
    "input = {\"names\":{\"Gourav, Nitesh, Rishi\"},\"marks\":{105,110,350},\"date\":{\"Jan,2021\",\"Feb,2021\"},\"grade\":{\"C\",\"D\"}}\n",
    "input"
   ]
  },
  {
   "cell_type": "markdown",
   "metadata": {},
   "source": [
    "**Ans.** The following is a basic data collection that includes some sample records.\n",
    "\n",
    "1. **Determine What Information You Want to Collect:** The first thing you need to do is choose what details you want to collect. You’ll need to decide what topics the information will cover, who you want to collect it from and how much data you need. Your goals — what you hope to accomplish using your data — will determine your answers to these questions. As an example, you may decide to collect data about which type of articles are most popular on your website among visitors who are between the ages of 18 and 34. You might also choose to gather information about the average age of all of the customers who bought a product from your company within the last month.\n",
    "\n",
    "2. **Set a Timeframe for Data Collection:** Next, you can start formulating your plan for how you’ll collect your data. In the early stages of your planning process, you should establish a timeframe for your data collection. You may want to gather some types of data continuously. When it comes to transactional data and website visitor data, for example, you may want to set up a method for tracking that data over the long term. If you’re tracking data for a specific campaign, however, you’ll track it over a defined period. In these instances, you’ll have a schedule for when you’ll start and end your data collection.\n",
    "\n",
    "3. **Determine Your Data Collection Method:** At this step, you will choose the data collection method that will make up the core of your data-gathering strategy. To select the right collection method, you’ll need to consider the type of information you want to collect, the timeframe over which you’ll obtain it and the other aspects you determined.\n",
    "\n",
    "\n",
    "4. **Collect the Data:** Once you have finalized your plan, you can implement your data collection strategy and start collecting data. You can store and organize your data in your DMP. Be sure to stick to your plan and check on its progress regularly. It may be useful to create a schedule for when you will check in with how your data collection is proceeding, especially if you are collecting data continuously. You may want to make updates to your plan as conditions change and you get new information.\n",
    "\n",
    "5. **Analyze the Data and Implement Your Findings:** Once you’ve collected all of your data, it’s time to analyze it and organize your findings. The analysis phase is crucial because it turns raw data into valuable insights that you can use to enhance your marketing strategies, products and business decisions. You can use the analytics tools built into our DMP to help with this step. Once you’ve uncovered the patterns and insights in your data, you can implement the findings to improve your business."
   ]
  },
  {
   "cell_type": "markdown",
   "metadata": {},
   "source": [
    "**4. What are the various causes of machine learning data issues? What are the ramifications?**"
   ]
  },
  {
   "cell_type": "markdown",
   "metadata": {},
   "source": [
    "**Solution:-** \n",
    "Noisy data, dirty data, and incomplete data is bad any Machine Learning model. The solution is to evaluate the data and do meticulous data governance, data integration, and data exploration until you get clean data. Various Ramifications or major issues in machine learning are:\n",
    "\n",
    "1. Five practical issues in machine learning and the business implications Data quality.\n",
    "2. Machine learning systems rely on data.\n",
    "3. The complexity and quality trade-off.\n",
    "4. Sampling bias in data.\n",
    "5. Changing expectations and concept drift.\n",
    "6. Monitoring and maintenance.\n",
    "\n",
    "In other words Ramifications can be overfitting, underfitting and low performance of the model."
   ]
  },
  {
   "cell_type": "markdown",
   "metadata": {},
   "source": [
    "**5. Demonstrate various approaches to categorical data exploration with appropriate examples.**"
   ]
  },
  {
   "cell_type": "markdown",
   "metadata": {},
   "source": [
    "**Solution:_**"
   ]
  },
  {
   "cell_type": "code",
   "execution_count": 8,
   "metadata": {},
   "outputs": [
    {
     "data": {
      "text/html": [
       "<div>\n",
       "<style scoped>\n",
       "    .dataframe tbody tr th:only-of-type {\n",
       "        vertical-align: middle;\n",
       "    }\n",
       "\n",
       "    .dataframe tbody tr th {\n",
       "        vertical-align: top;\n",
       "    }\n",
       "\n",
       "    .dataframe thead th {\n",
       "        text-align: right;\n",
       "    }\n",
       "</style>\n",
       "<table border=\"1\" class=\"dataframe\">\n",
       "  <thead>\n",
       "    <tr style=\"text-align: right;\">\n",
       "      <th></th>\n",
       "      <th>sepal.length</th>\n",
       "      <th>sepal.width</th>\n",
       "      <th>petal.length</th>\n",
       "      <th>petal.width</th>\n",
       "      <th>variety</th>\n",
       "    </tr>\n",
       "  </thead>\n",
       "  <tbody>\n",
       "    <tr>\n",
       "      <th>0</th>\n",
       "      <td>5.1</td>\n",
       "      <td>3.5</td>\n",
       "      <td>1.4</td>\n",
       "      <td>0.2</td>\n",
       "      <td>Iris-setosa</td>\n",
       "    </tr>\n",
       "    <tr>\n",
       "      <th>1</th>\n",
       "      <td>4.9</td>\n",
       "      <td>3.0</td>\n",
       "      <td>1.4</td>\n",
       "      <td>0.2</td>\n",
       "      <td>Iris-setosa</td>\n",
       "    </tr>\n",
       "    <tr>\n",
       "      <th>2</th>\n",
       "      <td>4.7</td>\n",
       "      <td>3.2</td>\n",
       "      <td>1.3</td>\n",
       "      <td>0.2</td>\n",
       "      <td>Iris-setosa</td>\n",
       "    </tr>\n",
       "    <tr>\n",
       "      <th>3</th>\n",
       "      <td>4.6</td>\n",
       "      <td>3.1</td>\n",
       "      <td>1.5</td>\n",
       "      <td>0.2</td>\n",
       "      <td>Iris-setosa</td>\n",
       "    </tr>\n",
       "    <tr>\n",
       "      <th>4</th>\n",
       "      <td>5.0</td>\n",
       "      <td>3.6</td>\n",
       "      <td>1.4</td>\n",
       "      <td>0.2</td>\n",
       "      <td>Iris-setosa</td>\n",
       "    </tr>\n",
       "  </tbody>\n",
       "</table>\n",
       "</div>"
      ],
      "text/plain": [
       "   sepal.length  sepal.width  petal.length  petal.width      variety\n",
       "0           5.1          3.5           1.4          0.2  Iris-setosa\n",
       "1           4.9          3.0           1.4          0.2  Iris-setosa\n",
       "2           4.7          3.2           1.3          0.2  Iris-setosa\n",
       "3           4.6          3.1           1.5          0.2  Iris-setosa\n",
       "4           5.0          3.6           1.4          0.2  Iris-setosa"
      ]
     },
     "execution_count": 8,
     "metadata": {},
     "output_type": "execute_result"
    }
   ],
   "source": [
    "import seaborn as sns\n",
    "import matplotlib.pyplot as plt\n",
    "import pandas as pd\n",
    "\n",
    "url = \"https://archive.ics.uci.edu/ml/machine-learning-databases/iris/iris.data\"\n",
    "\n",
    "names = ['sepal.length', 'sepal.width', 'petal.length', 'petal.width', 'variety']\n",
    "\n",
    "df = pd.read_csv(url, names=names)\n",
    "df.head()"
   ]
  },
  {
   "cell_type": "code",
   "execution_count": 6,
   "metadata": {},
   "outputs": [
    {
     "data": {
      "text/html": [
       "<div>\n",
       "<style scoped>\n",
       "    .dataframe tbody tr th:only-of-type {\n",
       "        vertical-align: middle;\n",
       "    }\n",
       "\n",
       "    .dataframe tbody tr th {\n",
       "        vertical-align: top;\n",
       "    }\n",
       "\n",
       "    .dataframe thead th {\n",
       "        text-align: right;\n",
       "    }\n",
       "</style>\n",
       "<table border=\"1\" class=\"dataframe\">\n",
       "  <thead>\n",
       "    <tr style=\"text-align: right;\">\n",
       "      <th></th>\n",
       "      <th>sepal.length</th>\n",
       "      <th>sepal.width</th>\n",
       "      <th>petal.length</th>\n",
       "      <th>petal.width</th>\n",
       "    </tr>\n",
       "  </thead>\n",
       "  <tbody>\n",
       "    <tr>\n",
       "      <th>count</th>\n",
       "      <td>150.000000</td>\n",
       "      <td>150.000000</td>\n",
       "      <td>150.000000</td>\n",
       "      <td>150.000000</td>\n",
       "    </tr>\n",
       "    <tr>\n",
       "      <th>mean</th>\n",
       "      <td>5.843333</td>\n",
       "      <td>3.054000</td>\n",
       "      <td>3.758667</td>\n",
       "      <td>1.198667</td>\n",
       "    </tr>\n",
       "    <tr>\n",
       "      <th>std</th>\n",
       "      <td>0.828066</td>\n",
       "      <td>0.433594</td>\n",
       "      <td>1.764420</td>\n",
       "      <td>0.763161</td>\n",
       "    </tr>\n",
       "    <tr>\n",
       "      <th>min</th>\n",
       "      <td>4.300000</td>\n",
       "      <td>2.000000</td>\n",
       "      <td>1.000000</td>\n",
       "      <td>0.100000</td>\n",
       "    </tr>\n",
       "    <tr>\n",
       "      <th>25%</th>\n",
       "      <td>5.100000</td>\n",
       "      <td>2.800000</td>\n",
       "      <td>1.600000</td>\n",
       "      <td>0.300000</td>\n",
       "    </tr>\n",
       "    <tr>\n",
       "      <th>50%</th>\n",
       "      <td>5.800000</td>\n",
       "      <td>3.000000</td>\n",
       "      <td>4.350000</td>\n",
       "      <td>1.300000</td>\n",
       "    </tr>\n",
       "    <tr>\n",
       "      <th>75%</th>\n",
       "      <td>6.400000</td>\n",
       "      <td>3.300000</td>\n",
       "      <td>5.100000</td>\n",
       "      <td>1.800000</td>\n",
       "    </tr>\n",
       "    <tr>\n",
       "      <th>max</th>\n",
       "      <td>7.900000</td>\n",
       "      <td>4.400000</td>\n",
       "      <td>6.900000</td>\n",
       "      <td>2.500000</td>\n",
       "    </tr>\n",
       "  </tbody>\n",
       "</table>\n",
       "</div>"
      ],
      "text/plain": [
       "       sepal.length  sepal.width  petal.length  petal.width\n",
       "count    150.000000   150.000000    150.000000   150.000000\n",
       "mean       5.843333     3.054000      3.758667     1.198667\n",
       "std        0.828066     0.433594      1.764420     0.763161\n",
       "min        4.300000     2.000000      1.000000     0.100000\n",
       "25%        5.100000     2.800000      1.600000     0.300000\n",
       "50%        5.800000     3.000000      4.350000     1.300000\n",
       "75%        6.400000     3.300000      5.100000     1.800000\n",
       "max        7.900000     4.400000      6.900000     2.500000"
      ]
     },
     "execution_count": 6,
     "metadata": {},
     "output_type": "execute_result"
    }
   ],
   "source": [
    "df.describe()"
   ]
  },
  {
   "cell_type": "code",
   "execution_count": 7,
   "metadata": {},
   "outputs": [
    {
     "data": {
      "text/html": [
       "<div>\n",
       "<style scoped>\n",
       "    .dataframe tbody tr th:only-of-type {\n",
       "        vertical-align: middle;\n",
       "    }\n",
       "\n",
       "    .dataframe tbody tr th {\n",
       "        vertical-align: top;\n",
       "    }\n",
       "\n",
       "    .dataframe thead th {\n",
       "        text-align: right;\n",
       "    }\n",
       "</style>\n",
       "<table border=\"1\" class=\"dataframe\">\n",
       "  <thead>\n",
       "    <tr style=\"text-align: right;\">\n",
       "      <th></th>\n",
       "      <th>variety</th>\n",
       "    </tr>\n",
       "  </thead>\n",
       "  <tbody>\n",
       "    <tr>\n",
       "      <th>count</th>\n",
       "      <td>150</td>\n",
       "    </tr>\n",
       "    <tr>\n",
       "      <th>unique</th>\n",
       "      <td>3</td>\n",
       "    </tr>\n",
       "    <tr>\n",
       "      <th>top</th>\n",
       "      <td>Iris-setosa</td>\n",
       "    </tr>\n",
       "    <tr>\n",
       "      <th>freq</th>\n",
       "      <td>50</td>\n",
       "    </tr>\n",
       "  </tbody>\n",
       "</table>\n",
       "</div>"
      ],
      "text/plain": [
       "            variety\n",
       "count           150\n",
       "unique            3\n",
       "top     Iris-setosa\n",
       "freq             50"
      ]
     },
     "execution_count": 7,
     "metadata": {},
     "output_type": "execute_result"
    }
   ],
   "source": [
    "df.describe(include='O')"
   ]
  },
  {
   "cell_type": "code",
   "execution_count": 9,
   "metadata": {},
   "outputs": [
    {
     "data": {
      "text/plain": [
       "Text(0.5, 1.0, 'Frequency Each Plant')"
      ]
     },
     "execution_count": 9,
     "metadata": {},
     "output_type": "execute_result"
    },
    {
     "data": {
      "image/png": "[encoded data removed]",
      "text/plain": [
       "<Figure size 432x288 with 1 Axes>"
      ]
     },
     "metadata": {
      "needs_background": "light"
     },
     "output_type": "display_data"
    }
   ],
   "source": [
    "a=df.groupby('variety')['variety'].count() \n",
    "sns.barplot(x=a.index, y=a.values)\n",
    "plt.title(\"Frequency Each Plant\")"
   ]
  },
  {
   "cell_type": "markdown",
   "metadata": {},
   "source": [
    "**Various approaches to categorical data exploration are:**\n",
    "\n",
    "1. **Unique value count:** One of the first things which can be useful during data exploration is to see how many unique values are there in categorical columns.\n",
    "2. **Frequency Count:** Frequency count is finding how frequent individual values occur in column.\n",
    "3. **Variance:** Variance gives a good indication how the values are spread.\n",
    "4. **Pareto Analysis:** Pareto analysis is a creative way of focusing on what is important. Pareto 80–20 rule can be effectively used in data exploration.\n",
    "5. **Histogram:** Histogram are one of the data scientists favourite data exploration techniques. It gives information on the range of values in which most of the values fall. It also gives information on whether there is any skew in data.\n",
    "6. **Correlation Heat-map between all numeric columns:** The term correlation refers to a mutual relationship or association between two things.\n",
    "7. **Pearson Correlation and Trend between two numeric columns:** Once you have visualised correlation heat-map , the next step is to see the correlation trend between two specific numeric columns.\n",
    "8. **Outlier overview:** Finding something unusual in data is called Outlier detection (also known as anomaly detection). These outliers represent something unusual, rare , anomaly or something exceptional."
   ]
  },
  {
   "cell_type": "markdown",
   "metadata": {},
   "source": [
    "**6. How would the learning activity be affected if certain variables have missing values? Having said that, what can be done about it?**"
   ]
  },
  {
   "cell_type": "markdown",
   "metadata": {},
   "source": [
    "**Solution:-** \n",
    "In Practical problems, missing values/ data occurs in almost all problems. Missing data can reduce the statistical significance of a study and can produce biased estimates, leading to invalid conclusions.\n",
    "\n",
    "1. Real-world data collection has its own set of problems, It is often very messy which includes missing data, presence of outliers, unstructured manner, etc.\n",
    "3. Before looking for any insights from the data, we have to first perform preprocessing tasks which then only allow us to use that data for further observation and train our machine learning model.\n",
    "4. Missing value in a dataset is a very common phenomenon in the reality.\n",
    "5. Missing value is removed or reduced to reduce bias and to produce robot and generalized models.\n",
    "6. Most of the algorithms can’t handle missing data, thus you need to act in some way to simply not let your code crash. \n",
    "7. Methods for dealing with missing values.\n",
    "\n",
    "The popular methods which are used by the machine learning engineer is to handle the missing value for categorical variables in the dataset is as follows: \n",
    "Delete the observations: If there is a large number of observations in the dataset, where all the classes to be predicted are sufficiently represented in the training data, then try deleting the missing value observations, which would not bring significant change in your feed to your model. \n",
    "We can also use mean or median imputation, or trim the data point by some percentage. "
   ]
  },
  {
   "cell_type": "markdown",
   "metadata": {},
   "source": [
    "**7. Describe the various methods for dealing with missing data values in depth.**"
   ]
  },
  {
   "cell_type": "markdown",
   "metadata": {},
   "source": [
    "**Solution:-** Imputation If the data distribution is normal, then numerical averages can be used to fill missing data as most of the data would lie around the mean. If data is not normally distributed, median can be used for imputation of values as median is not affected by presence of outliers. pd.df.fillna() is used for imputations\n",
    "\n",
    "1. Removal of datapoint If there is a lot of data and the missing values are very low in numbers, then it may be better to simply remove that specific data point row. This will have little effect over performance of the machine learning model to be built. pd.df.drop() is used for this.\n",
    "\n",
    "2. Interpolate() Interpolate() of pandas library is used in cases where numerical data is following some trend. This trend calculated and values are filled based on it. This function will not work on any other scenarios.\n",
    "\n",
    "3. Build a machine learning model for filling data Machine learning models can learn from the data and then fill the missing value with most probable value. KNN models can be built for this purpose.\n",
    "\n",
    "4. Dropping column Removing an entire column which is filled with missing data might be our best bet for building a good machine learning model.\n",
    "\n",
    "5. Replace missing values with the most frequent value: You can always impute them based on Mode in the case of categorical variables, just make sure you don’t have highly skewed class distributions.\n",
    "\n",
    "6. Develop a model to predict missing values: One way of doing is training a classifier over your columns with missing values as a dependent variable against other features of your data set and trying to impute based on the newly trained classifier. like KNN imputation. "
   ]
  },
  {
   "cell_type": "markdown",
   "metadata": {},
   "source": [
    "**8. What are the various data pre-processing techniques? Explain dimensionality reduction and function selection in a few words.**"
   ]
  },
  {
   "cell_type": "markdown",
   "metadata": {},
   "source": [
    "**Solution:-** Data Pre-Processing techniques:\n",
    "\n",
    "1. Data Cleaning\n",
    "2. Data Transformation - transform the data using log, cube, cube root transformation\n",
    "3. Data Reduction\n",
    "\n",
    "- **Data Cleaning:** The data can have many irrelevant and missing parts. To handle this part, data cleaning is done. It involves handling of missing data, noisy data etc.\n",
    "- **Missing Data:** This situation arises when some data is missing in the data. It can be handled in various ways. Some of them are:\n",
    "- **Ignore the tuples:**  This approach is suitable only when the dataset we have is quite large and multiple values are missing within a tuple.\n",
    "- **Fill the Missing values:**  There are various ways to do this task. You can choose to fill the missing values manually, by attribute mean or the most probable value.\n",
    "- **Noisy Data** : Noisy data is a meaningless data that can’t be interpreted by machines.It can be generated due to faulty data collection, data entry errors etc. It can be handled in following ways :\n",
    "- **Binning Method:**  This method works on sorted data in order to smooth it. The whole data is divided into segments of equal size and then various methods are performed to complete the task. Each segmented is handled separately. One can replace all data in a segment by its mean or boundary values can be used to complete the task.\n",
    "- **Regression:**  Here data can be made smooth by fitting it to a regression function.The regression used may be linear (having one independent variable) or multiple (having multiple independent variables).\n",
    "- **Clustering:**  This approach groups the similar data in a cluster. The outliers may be undetected or it will fall outside the clusters.\n",
    "\n",
    "\n",
    "-**Data Reduction:**  Since data mining is a technique that is used to handle huge amount of data. While working with huge volume of data, analysis became harder in such cases. In order to get rid of this, we uses data reduction technique. It aims to increase the storage efficiency and reduce data storage and analysis costs. The various steps to data reduction are:\n",
    "- **Data Cube Aggregation:** Aggregation operation is applied to data for the construction of the data cube.\n",
    "- **Attribute Subset Selection:** The highly relevant attributes should be used, rest all can be discarded. For performing attribute selection, one can use level of significance and p- value of the attribute.the attribute having p-value greater than significance level can be discarded.\n",
    "- **Numerosity Reduction:** This enable to store the model of data instead of whole data, for example: Regression Models.\n",
    "- **Dimensionality Reduction:**  This reduce the size of data by encoding mechanisms.It can be lossy or lossless. If after reconstruction from compressed data, original data can be retrieved, such reduction are called lossless reduction else it is called lossy reduction. The two effective methods of dimensionality reduction are:Wavelet transforms and PCA (Principal Component Analysis).\n",
    "Feature selection is simply selecting and excluding given features without changing them. Dimensionality reduction transforms features into a lower dimension."
   ]
  },
  {
   "cell_type": "markdown",
   "metadata": {},
   "source": [
    "**9.i. What is the IQR? What criteria are used to assess it?**\n",
    "\n",
    "**ii. Describe the various components of a box plot in detail? When will the lower whisker surpass the upper whisker in length? How can box plots be used to identify outliers?**"
   ]
  },
  {
   "cell_type": "markdown",
   "metadata": {},
   "source": [
    "**Solution:-**"
   ]
  },
  {
   "cell_type": "markdown",
   "metadata": {},
   "source": [
    "1. \n",
    "Q1 is the first quartile of the data, i.e., means 25% of the data lies between minimum and Q1.\n",
    "Q3 is the third quartile of the data, i.e., means 75% of the data lies between minimum and Q3.\n",
    "The difference between Q3 and Q1 is called the Inter-Quartile Range or IQR.\n",
    "\n",
    "IQR or Inter-Quartile Range is a measure of dispersion. It is formulated as (third quartile-1st quartile). It is dependent on only 50% of the data. First quartile and third quartile are required to assess Inter Quartile Range.\n",
    "\n",
    "2. Box Plot \n",
    "- minimum is the minimum value in the dataset\n",
    "- maximum is the maximum value in the dataset.\n",
    "- So the difference between the two tells us about the range of dataset.\n",
    "- The median is the median (or centre point), also called second quartile, of the data (resulting from the fact that the data is ordered).\n",
    "- Q1 is the first quartile of the data, i.e., to say 25% of the data lies between minimum and Q1.\n",
    "- Q3 is the third quartile of the data, i.e., to say 75%\n",
    "- When the data is left skewed, lower whisker will be longer than upper whisker.\n",
    "- To detect the outliers this method is used, we define a new range, We call it decision range, and any data point lying outside this range is considered as outlier. \n",
    "- The range is as given below: **Lower Bound: (Q1 - 1.5 * IQR)Upper Bound: (Q3 + 1.5 * IQR)**\n",
    "- The difference between Q3 and Q1 is called the Inter-Quartile Range or IQR.\n",
    "\n",
    "It also has two whiskers which provide us with a visual position of minimum and maximum value, below and above which lies the threshold beyond which any data point will be shown as an outlier. \n",
    "**Outliers are declared by using formula Q1-(1.5 IQR) and Q3+(1.5 IQR).** Lower whisker surpasses the upper whisker if the data is right skewed."
   ]
  },
  {
   "cell_type": "markdown",
   "metadata": {},
   "source": [
    "**10. Make brief notes on any two of the following:**\n",
    "\n",
    "**i. Data collected at regular intervals**\n",
    "**ii. The gap between the quartiles**"
   ]
  },
  {
   "cell_type": "markdown",
   "metadata": {},
   "source": [
    "**Solution:-**\n",
    "\n",
    "**Data collected at regular intervals:** \n",
    "- Interval data is one of the two types of discrete data.\n",
    "- An example of interval data is the data collected on a thermometer—its gradation or markings are equidistant.\n",
    "- Unlike ordinal data, interval data always take numerical values where the distance between two points on the scale is standardised and equal.\n",
    "\n",
    "\n",
    "**The gap between the quartiles:**\n",
    "- Q1 is the first quartile of the data, i.e., means 25% of the data lies between minimum and Q1.\n",
    "- Q3 is the third quartile of the data, i.e., means 75% of the data lies between minimum and Q3.\n",
    "- The difference between Q3 and Q1 is called the Inter-Quartile Range or IQR."
   ]
  },
  {
   "cell_type": "markdown",
   "metadata": {},
   "source": [
    "**11. Make a comparison between:**\n",
    "    \n",
    "**ii. Histogram and box plot**\n",
    "\n",
    "**iii. The average and median**"
   ]
  },
  {
   "cell_type": "markdown",
   "metadata": {},
   "source": [
    "**Solution:-**"
   ]
  },
  {
   "cell_type": "markdown",
   "metadata": {},
   "source": [
    "2. Histograms is used for data visualizations for continous quantitative data. \n",
    "- Box Plots is used for data visualizations for describing any quantitative data. \n",
    "- Histograms are used for checking the distribution type. \n",
    "- Box Plots are used for describing data in 5 point summary and detecting outliers in data. \n",
    "- Granularity can be changed using bins in Histograms. \n",
    "- Box Plots do no feature any control over granularity.\n",
    "- Although histograms are better in determining the underlying distribution of the data, box plots allow you to compare multiple data sets better than histograms as they are less detailed and take up less space.\n",
    "\n",
    "3. Average is a measure of numerical centrality of a distribution. Median is a measure of positional centrality of a distribution. Average can also be referred to as the value that is closest to most number of values in a data. Median can also be referred to as the value which is exactly in the middle of a distribution. Averages are affected by presence of outliers. Medians are not affected by outliers.\n",
    "\n",
    "- The mean (informally, the “average“) is found by adding all of the numbers together and divide by the total number of items in the set: 10 + 10 + 20 + 40 + 70 / 5 = 30. \n",
    "- The median is found by ordering the set from lowest to highest and finding the exact middle. The median is the middle number: 20 in the above case (10, 10, 20, 40, 70)."
   ]
  },
  {
   "cell_type": "code",
   "execution_count": null,
   "metadata": {},
   "outputs": [],
   "source": []
  }
 ],
 "metadata": {
  "kernelspec": {
   "display_name": "Python 3 (ipykernel)",
   "language": "python",
   "name": "python3"
  },
  "language_info": {
   "codemirror_mode": {
    "name": "ipython",
    "version": 3
   },
   "file_extension": ".py",
   "mimetype": "text/x-python",
   "name": "python",
   "nbconvert_exporter": "python",
   "pygments_lexer": "ipython3",
   "version": "3.9.7"
  }
 },
 "nbformat": 4,
 "nbformat_minor": 4
}
