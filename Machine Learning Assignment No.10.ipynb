{
 "cells": [
  {
   "cell_type": "markdown",
   "metadata": {},
   "source": [
    "**1. Define the Bayesian interpretation of probability.**\n",
    "\n",
    "**Solution:-**\n",
    "\n",
    "Bayesian probability is the concept of probability, in which, instead of frequency or propensity of some phenomenon, **probability is interpreted as reasonable expectation representing a state of knowledge or as quantification of a personal belief.**\n",
    "\n",
    "Bayesian probability belongs to the category of evidential probabilities; to evaluate the probability of a hypothesis, the Bayesian probabilistic specifies a prior probability. This, in turn, is then updated to a posterior probability in the light of new, relevant data (evidence). The Bayesian interpretation provides a standard set of procedures and formulae to perform this calculation.\n",
    "\n",
    "\n",
    "Bayesian probability is a conditional probability which can be defined as: The probability of A given B or P(A|B) is equal to the Probability of B given A or P(B|A) multiplied by Probability of A or P(A), whole divided by Probability of B or P(B). or\n",
    "\n",
    "P(A|B) = (P(B|A).P(A))/P(B) when P(B) and P(A) > 0.\n",
    "\n",
    "Bayes Probability or Bayes theorem relies on assuming prior knowledge of conditions that are related to an event."
   ]
  },
  {
   "cell_type": "markdown",
   "metadata": {},
   "source": [
    "**2. Define probability of a union of two events with equation.**\n",
    "\n",
    "**Solution:-**\n",
    "\n",
    "Probability of a union of two events can be defined as: The probability of a union of two events A and B (A U B) is equal to the sum of probabilities of A and B, subtracting the probability of intersection of two events A and B.\n",
    "OR \n",
    "It consists of all outcomes that are in A or in B or in both A and B.\n",
    "\n",
    "**When two events are mutually exclusive, the probability of their union can be calculated with the addition rule.**\n",
    "\n",
    "If the events are not mutually exclusive, then we do not simply add the probabilities of the events together, but we need to subtract the probability of the intersection of the events\n",
    "\n",
    "mathematically,\n",
    "\n",
    "P(A U B) = P(A) + P(B) - P(A ∩ B)"
   ]
  },
  {
   "cell_type": "markdown",
   "metadata": {},
   "source": [
    "**3. What is joint probability? What is its formula?**\n",
    "\n",
    "**Solution:-**\n",
    "\n",
    "Joint probability or the multiplicative rule of probability is the probability of two events occuring spontaneously given that the events are independent.\n",
    "\n",
    "Mathematically,\n",
    "\n",
    "P(A ∩ B) = P(A) * P(B)"
   ]
  },
  {
   "cell_type": "markdown",
   "metadata": {},
   "source": [
    "**4. What is chain rule of probability?**\n",
    "\n",
    "**Solution:-**\n",
    "\n",
    "The probability chain is a random process in which someone transmits the information to others in accordance with the laws of probability and then these others tell still others in a similar way. This chain may also be called random process. Most of the information communication follows this chain.\n",
    "\n",
    "\n",
    "Chain rule is an extension to the joint probability where simultaneous occurence of A and B can also be written as\n",
    "\n",
    "P(A ∩ B) = P(A) * P(B|A)\n",
    "\n",
    "and can be further extended to calculate simulataneous occurence of 3 events A,B and C and\n",
    "\n",
    "P(A ∩ B ∩ C) = P(A) P(B|A) P(C|A ∩ B)"
   ]
  },
  {
   "cell_type": "markdown",
   "metadata": {},
   "source": [
    "**5. What is conditional probability means? What is the formula of it?**\n",
    "\n",
    "**Solution:-**\n",
    "Conditional probability is defined as the likelihood of an event or outcome occurring, based on the occurrence of a previous event or outcome.\n",
    "\n",
    "Probability of an event A occuring given event B has already occurred is conditional probability. It is mathematically written as\n",
    "\n",
    "P(A|B) = P(A ∩ B)/P(B)"
   ]
  },
  {
   "cell_type": "markdown",
   "metadata": {},
   "source": [
    "**6. What are continuous random variables?**\n",
    "\n",
    "**Solution:-**\n",
    "\n",
    "A continuous random variable is one which takes an infinite number of possible values. Continuous random variables are usually measurements. Examples include height, weight, the amount of sugar in an orange, the time required to run a mile."
   ]
  },
  {
   "cell_type": "markdown",
   "metadata": {},
   "source": [
    "**7. What are Bernoulli distributions? What is the formula of it?**\n",
    "\n",
    "**Solution:-**\n",
    "\n",
    "A Bernoulli distribution is a discrete probability distribution for a Bernoulli trial — a random experiment that has only two outcomes (usually called a “Success” or a “Failure”). For example, the probability of getting a heads (a “success”) while flipping a coin is 0.5. The probability of “failure” is 1 – P (1 minus the probability of success, which also equals 0.5 for a coin toss). It is a special case of the binomial distribution for n = 1. In other words, it is a binomial distribution with a single trial (e.g. a single coin toss).\n",
    "\n",
    "P(X=x) = p^x(1 - p)^(1-x) where p is the probability of success and 1-p is probability of failure where a random variable X can take only two values 0 and 1. x=1 would mean probability of success gets activated while x=0 would mean probability of failure gets activated."
   ]
  },
  {
   "cell_type": "markdown",
   "metadata": {},
   "source": [
    "**8. What is binomial distribution? What is the formula?**\n",
    "\n",
    "**Solution:-**\n",
    "\n",
    "When one Bernoulli trial is repeated n times and all trials are independent and identical, Binomial distribution is created where P(X) would give the probability of number of successes out of n trails. Its Probability Mass Function is\n",
    "\n",
    "P(X=x) = nCx p^x q^(n-x) where n is number of trails and x is the number of successes out of n trials."
   ]
  },
  {
   "cell_type": "markdown",
   "metadata": {},
   "source": [
    "**9. What is Poisson distribution? What is the formula?**\n",
    "\n",
    "**Solution:-**\n",
    "Poisson distribution is a probability distribution that is used to show how many times an event is likely to occur over a specified period. Poisson distributions are often used to understand independent events that occur at a constant rate within a given interval of time.\n",
    "\n",
    "Poisson distribution is a discrete probability distribution that is **used to calculate the likelihood of an event within a time period**. \n",
    "\n",
    "When p is close to 0, and n trials are infinite in number, then assuming n * p = λ\n",
    "\n",
    "P(λ) = ((e^-λ) * (λ^x))/x! where λ>0"
   ]
  },
  {
   "cell_type": "markdown",
   "metadata": {},
   "source": [
    "**10. Define covariance.**\n",
    "\n",
    "**Solution:-**\n",
    "Covariance is a **measure of how much two random variables vary together.** It's similar to variance, but where variance tells you how a single variable varies, covariance tells you how two variables vary together.\n",
    "\n",
    "\n",
    "Linear relationship between 2 random variables can be given by Cov(X,Y) such that\n",
    "\n",
    "Cov(X,Y) = Expectation((X - Expectation(X))(Y - E(Y)))\n",
    "\n",
    "or\n",
    "\n",
    "Expectation(XY) - Expectation(X).Expectation(Y)\n",
    "\n",
    "Covariance can only measure direction of linear relationship between 2 random variables."
   ]
  },
  {
   "cell_type": "markdown",
   "metadata": {},
   "source": [
    "**11. Define correlation**\n",
    "\n",
    "**Solution:-**\n",
    "\n",
    "Correlation is a statistical measure that expresses **the extent to which two variables are linearly related (meaning they change together at a constant rate).** It’s a common tool for describing simple relationships without making a statement about cause and effect.\n",
    "\n",
    "High correlation does not guarantee causation."
   ]
  },
  {
   "cell_type": "markdown",
   "metadata": {},
   "source": [
    "**12. Define sampling with replacement. Give example.**\n",
    "\n",
    "**Solution:-**\n",
    "\n",
    "When a sampling unit is drawn from a finite population and is returned to that population, after its characteristic(s) have been recorded, before the next unit is drawn, the sampling is said to be “with replacement”. With replacement means the same item can be chosen more than once.\n",
    "\n",
    "If out of a class of 40 students we need to sample 10 students with simple random sampling method with replacement, we may choose one student more than once and include it into our subset."
   ]
  },
  {
   "cell_type": "markdown",
   "metadata": {},
   "source": [
    "**13. What is sampling without replacement? Give example.**\n",
    "\n",
    "**Solution:-**\n",
    "\n",
    "In sampling without replacement, each sample unit of the population has only one chance to be selected in the sample. Without replacement means the same item cannot be selected more than once. For example, if one draws a simple random sample such that no unit occurs more than one time in the sample, the sample is drawn without replacement.\n",
    "\n",
    "If out of a class of 40 students we need to sample 10 students without replacement, we have to choose one student only once and include it into our subset. This would mean that all the elements of that subset would necessarily be different."
   ]
  },
  {
   "cell_type": "markdown",
   "metadata": {},
   "source": [
    "**14. What is hypothesis? Give example.**\n",
    "\n",
    "**Solution:-**\n",
    "\n",
    "A simple hypothesis predicts the relationship between two variables: the independent variable and the dependent variable. \n",
    "\n",
    "For examples. \n",
    "- Drinking sugary drinks daily leads to obesity. \n",
    "- Smoking cigarettes daily leads to lung cancer. \n",
    "- Getting 8 hours of sleep can lead to more alert students."
   ]
  },
  {
   "cell_type": "code",
   "execution_count": null,
   "metadata": {},
   "outputs": [],
   "source": []
  }
 ],
 "metadata": {
  "kernelspec": {
   "display_name": "Python 3 (ipykernel)",
   "language": "python",
   "name": "python3"
  },
  "language_info": {
   "codemirror_mode": {
    "name": "ipython",
    "version": 3
   },
   "file_extension": ".py",
   "mimetype": "text/x-python",
   "name": "python",
   "nbconvert_exporter": "python",
   "pygments_lexer": "ipython3",
   "version": "3.9.7"
  }
 },
 "nbformat": 4,
 "nbformat_minor": 4
}
