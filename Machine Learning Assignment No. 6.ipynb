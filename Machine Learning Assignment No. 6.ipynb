{
 "cells": [
  {
   "cell_type": "markdown",
   "metadata": {},
   "source": [
    "**1. In the sense of machine learning, what is a model? What is the best way to train a model?**"
   ]
  },
  {
   "cell_type": "markdown",
   "metadata": {},
   "source": [
    "**Solution:-** A Machine Learning Model is trained to recognize certain types of patterns. We train a model over a set of data, use ML algorithm to learn from that data.   \n",
    "\n",
    "1. **Model Naming** — Give Name to a Model, describe your model and attach tags to your model. \n",
    "\n",
    "2. **Data Type Selection** — Choose data type (Images/ Text/ CSV), about the type of data you want to train your model. ML Models support Images, Text and *.csv (categorical data) data types.\n",
    "\n",
    "3. **Data Upload** — Upload your data from local system or choose from Public Data Sets: Choose from public datasets like Jewellery Data set (Images), Gender Data Set (Images), Question or Sentence Data Set (Text), Numerical Data Set (csv) and upload your data. \n",
    "\n",
    "4. **Type category (label)** for the files (images/text file) that you have uploaded and submit to upload. Wait for some time till our web app uploads all the files. You can upload images for as many categories as possible.\n",
    "\n",
    "5. **Start Training -** To start training. Now Mateverse’s intelligent backend will start processing the uploaded data and prepare it for training. "
   ]
  },
  {
   "cell_type": "markdown",
   "metadata": {},
   "source": [
    "**2. In the sense of machine learning, explain the \"No Free Lunch\" theorem.**"
   ]
  },
  {
   "cell_type": "markdown",
   "metadata": {},
   "source": [
    "**Solution:-** \n",
    "- The No Free Lunch Theorem, often abbreviated as NFL or NFLT, is a theoretical finding that suggests all optimization algorithms perform equally well when their performance is averaged over all possible objective functions. In computational complexity and optimization the no free lunch theorem is a result that states that for certain types of mathematical problems, the computational cost of finding a solution, averaged over all problems in the class, is the same for any solution method.\n",
    "\n",
    "- In Simple Words “No Free Lunch” theorem means we can’t rely on one model to be best of all models. We have to understand data properly and make use of ML understanding and make use of models to find best out of it. "
   ]
  },
  {
   "cell_type": "markdown",
   "metadata": {},
   "source": [
    "**3. Describe the K-fold cross-validation mechanism in detail.**"
   ]
  },
  {
   "cell_type": "markdown",
   "metadata": {},
   "source": [
    "**Solution:-** In K-fold cross validation, data D is subset into k subsets randomly. Let us assume S1...Sk are the subsets where Sk is the kth randomly split subset of data D. \n",
    "\n",
    "In the first iteration, D-S1 is used for training and S1 for testing the model. When the model has been trained and tested, evaluation can be done, score is noted elsewhere and the trained model is discarded.\n",
    "\n",
    "These k-iterations go on where 1/k subset of D is always set aside for testing the data and D-1/k subsets are used for training, evaluating and discarding the model. At the end of all the iterations, average of all the evaluation scores is taken and used as output."
   ]
  },
  {
   "cell_type": "markdown",
   "metadata": {},
   "source": [
    "**4. Describe the bootstrap sampling method. What is the aim of it?**"
   ]
  },
  {
   "cell_type": "markdown",
   "metadata": {},
   "source": [
    "**Solution:-** Boostrap sampling is a statistical method used for estimating quantities about a population by averaging estimates from multiple small data samples.\n",
    "\n",
    "Samples are drawn one at random with replacement from a large data set. Bootstrap sampling is often used to simulate sampling distributions instead of relying on theorems like the Central Limit Theorem.\n",
    "\n",
    "In Machine Learning, it is primarily used in ensemble models like Random Forest classifier. In Machine Learning to avoid overfitting and improve stability of machine learning algorithms while improving performance."
   ]
  },
  {
   "cell_type": "markdown",
   "metadata": {},
   "source": [
    "**5. What is the significance of calculating the Kappa value for a classification model? Demonstrate how to measure the Kappa value of a classification model using a sample collection of results.**"
   ]
  },
  {
   "cell_type": "markdown",
   "metadata": {},
   "source": [
    "**Solution:-** Kappa value or Cohen's Kappa coefficient is an evaluation metric for classification models. Its significance as an evaluation metric is that it can be used to evaluate multi class classification \n",
    "models and also works on models trained on imbalanced datasets(scores like accuracy scores fail for imbalanced datasets).\n",
    "\n",
    "In simpler words It basically tells you how much better your classifier is performing over the performance of a classifier that simply  guesses at random according to the frequency of each class. Cohen's kappa is always less than or equal to 1. Values of 0 or less, indicate that the classifier is useless Cohen suggested the Kappa result be interpreted as follows: values ≤ 0 as indicating no agreement and 0.01–0.20 as none to slight, 0.21–0.40 as fair, 0.41– 0.60 as moderate, 0.61–0.80 as substantial, and 0.81–1.00 as almost perfect agreement."
   ]
  },
  {
   "cell_type": "code",
   "execution_count": 1,
   "metadata": {},
   "outputs": [
    {
     "data": {
      "text/plain": [
       "0.0"
      ]
     },
     "execution_count": 1,
     "metadata": {},
     "output_type": "execute_result"
    }
   ],
   "source": [
    "from sklearn.metrics import cohen_kappa_score\n",
    "\n",
    "Observed=['0','1','0','1','0','1','0','1','0','1']\n",
    "\n",
    "Predicted=['0','0','1','1','0','0','1','1','0','0']\n",
    "\n",
    "cohen_kappa_score(Observed,Predicted) #True Value"
   ]
  },
  {
   "cell_type": "code",
   "execution_count": 2,
   "metadata": {},
   "outputs": [
    {
     "name": "stdout",
     "output_type": "stream",
     "text": [
      "0.5 0.25 0.25\n"
     ]
    }
   ],
   "source": [
    "agreed=(3+2)/10\n",
    "\n",
    "pyes=((3+2)/10)*((3+2)/10)\n",
    "\n",
    "pno=((3+2)/10)*((3+2)/10)\n",
    "\n",
    "print(agreed,pyes,pno)"
   ]
  },
  {
   "cell_type": "code",
   "execution_count": 3,
   "metadata": {},
   "outputs": [
    {
     "name": "stdout",
     "output_type": "stream",
     "text": [
      "0.5\n",
      "0.5\n"
     ]
    }
   ],
   "source": [
    "disagreed= pyes+pno\n",
    "print(1-disagreed)\n",
    "print(1-agreed)"
   ]
  },
  {
   "cell_type": "code",
   "execution_count": 4,
   "metadata": {},
   "outputs": [
    {
     "data": {
      "text/plain": [
       "0.0"
      ]
     },
     "execution_count": 4,
     "metadata": {},
     "output_type": "execute_result"
    }
   ],
   "source": [
    "K= 1-(0.5/0.5)\n",
    "K "
   ]
  },
  {
   "cell_type": "markdown",
   "metadata": {},
   "source": [
    "**6. Describe the model ensemble method. In machine learning, what part does it play?**"
   ]
  },
  {
   "cell_type": "markdown",
   "metadata": {},
   "source": [
    "**Solution:-**\n",
    "\n",
    "Ensemble methods or ensemble machine learning models are models where more than one models are being used to produce better results than individually trained models. Ensemble models are of 4 types as explained below: \n",
    "\n",
    "1. Bagging which is also called Bootstrap aggregation. Multiple base learners learn on subsets of data. A majority vote based on the results of the individual base learners is then used to output the final result. Example: Random Forest\n",
    "\n",
    "2. Boosting is mainly used to reduce bias in model. Multiple base learners are trained in a sequence in which each learner covers up the weakness of the previous learner to ultimately produce a powerful model. Example: Adaptive Boosting or Adaboost\n",
    "\n",
    "3. Stacking is an ensemble model that combines multiple base learner models constructed parallel to each other and independent. All the models produce predictions that are used creating a meta classifier which is trained on the predictions made by base models. The resultant prediction is then taken as the final prediction. Space and Time complexity issue is huge for stacking models.\n",
    "\n",
    "4. Cascading models are built when the cost of making a mistake in prediction is high. A threshold is chosen for multiple base learners. If one base learner is sure about its prediction(Probability>0.99), then the solution of this learner is taken as the final solution. Else, the problem is sent to a more sophisticated, complex model that does the same as the previous model. The problem either gets solved with probability>0.99 or it keeps getting transfered to a more complicated model that is bound to solve it."
   ]
  },
  {
   "cell_type": "markdown",
   "metadata": {},
   "source": [
    "**7. What is a descriptive model's main purpose? Give examples of real-world problems that descriptive models were used to solve.**"
   ]
  },
  {
   "cell_type": "markdown",
   "metadata": {},
   "source": [
    "**Solution:-** Main purpose of descriptive models is to find patterns and underlying trends. In machine learning, this is done mostly using unsupervised machine learning algorithms.\n",
    "\n",
    "Market analysis based on consumer's purchase data, Social media post engagement analysis and sales data are real world applications of descriptive models.\n",
    "It is used in customer classification as real life problem ."
   ]
  },
  {
   "cell_type": "markdown",
   "metadata": {},
   "source": [
    "**8. Describe how to evaluate a linear regression model.**"
   ]
  },
  {
   "cell_type": "markdown",
   "metadata": {},
   "source": [
    "**Solution:-** Evaluation of a linear regression model can be done using R-square. R square is calculated as the sum of squared errors in predictions made, divided by summation of all sum of squares. R square measures how much of the change in target variable can be explained by the linear regressor. Its value ranges from 0 to 1 where 0 means poor performance and 1 means good.\n",
    "\n",
    "Some other techniques which can be used to evaluate a linear regression model are:\n",
    "1. Mean Square Error(MSE)/Root Mean Square Error(RMSE)\n",
    "2. Mean Absolute Error(MAE)"
   ]
  },
  {
   "cell_type": "markdown",
   "metadata": {},
   "source": [
    "**9. Distinguish :**\n",
    "\n",
    "**i. Descriptive vs. predictive models**\n",
    "\n",
    "**ii. Underfitting vs. overfitting the model**\n",
    "\n",
    "**iii. Bootstrapping vs. cross-validation**"
   ]
  },
  {
   "cell_type": "markdown",
   "metadata": {},
   "source": [
    "**Ans:** The differences between:\n",
    "\n",
    "-  **Descriptive vs. predictive models**\n",
    "    - Descriptive models are built to identify trends and underlying patterns.\n",
    "    - Predictive models are built to predict a dependent variable value.\n",
    "    - Most of descriptive models are built using unsupervised machine learning.\n",
    "    - Most of predictive models are built using classification and regression models.\n",
    "    - Example for descriptive model: Finding why consumers are engaging more with a social media post.\n",
    "    - Example for predictive model: Predicting the chances of cancer in a patient. \n",
    "        \n",
    "        \n",
    "- **Underfitting vs. overfitting the model**\n",
    "    - Underfitting is a situation arising when the hypothesis is way too simple, or when the machine learning model is way too simple to produce good results.\n",
    "    - Overfitting is a situation arising when the hypothesis is way too complex, or when the machine learning model is way too complex to produce good results.\n",
    "    - Underfitting causes a model to produce poor results due to heavily simplified algorithm reacting lightly to changes in the unseen data for independent variables from the training data.\n",
    "    - Overfitting makes a model produce poor results due to slightest variations in the unseen data for independent variables from the training data\n",
    "    - Underfitting is also called High Bias.\n",
    "    - Overfitting is also called High variance \n",
    "    \n",
    "    \n",
    "- **Bootstrapping vs cross-validation**\n",
    "    - Boostrap sampling is a method of sampling in which the repeated sampling is done with replacement using a data D in random draws over which machine learning models are trained for better performance.\n",
    "    - Cross validation is a method used to check the efficacy of the machine learning model on test data.\n",
    "    - End goal of bootstrapping is to reduce overfitting and increase performance.\n",
    "    - End goal of cross validation is only to produce test scores to check efficacy of model\n",
    "    - Bootstrapping is best employed in Random Forest Classifier.\n",
    "    - Cross Validation is best employed using K-fold cross validation technique. "
   ]
  },
  {
   "cell_type": "markdown",
   "metadata": {},
   "source": [
    "**10. Make quick notes on:**"
   ]
  },
  {
   "cell_type": "markdown",
   "metadata": {},
   "source": [
    "**i. LOOCV**\n",
    "LOOCV or Leave One Out Cross Validation is a form of K-fold cross validation where only one observation is left out for validation purpose while the rest of the data is used for model training each iteration. It is computationally taxing and should only be used for data with low dimensionality.\n",
    "\n",
    "**ii. F-measurement**\n",
    "Harmonic mean of Precision score and recall score is called F-measurement or F-score. It is formulated as 2 (pr re)/pr +re where pr is precision score and re is recall score.\n",
    "\n",
    "**iii. The width of the silhouette**\n",
    "Estimate of average inter cluster distance to give efficacy/performance of cluster algorithms is called width of the silhouette. It can also be defined as how identical/similar a data point 'x' is to the data points inside the cluster to which x is assigned. Its value ranges from -1 to 1 where 1 means good and -1 means bad.\n",
    "\n",
    "**iv. Receiver operating characteristic curve**\n",
    "Curve plotted between True Positive Rate and False Positive Rate is Receiver Operating Characteristics curve and is used to find the area under the curve for ROC-AUC score for binary classification evaluation. True Positive Rate and False Positive Rate are calculated for different thresholds values where thresholds take values starting from the highest probability scores assigned to data points and goes up to the lowest probability score. The curve is impacted by presence of outliers, and simple models. Extensions can be made to this curve to suit multiclass classification evaluation requirements."
   ]
  },
  {
   "cell_type": "code",
   "execution_count": null,
   "metadata": {},
   "outputs": [],
   "source": []
  }
 ],
 "metadata": {
  "kernelspec": {
   "display_name": "Python 3 (ipykernel)",
   "language": "python",
   "name": "python3"
  },
  "language_info": {
   "codemirror_mode": {
    "name": "ipython",
    "version": 3
   },
   "file_extension": ".py",
   "mimetype": "text/x-python",
   "name": "python",
   "nbconvert_exporter": "python",
   "pygments_lexer": "ipython3",
   "version": "3.9.12"
  }
 },
 "nbformat": 4,
 "nbformat_minor": 4
}
