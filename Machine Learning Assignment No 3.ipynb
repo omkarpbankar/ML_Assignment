{
 "cells": [
  {
   "cell_type": "markdown",
   "id": "2f1bb91c",
   "metadata": {},
   "source": [
    "## 1.Explain the term machine learning, and how does it work? Explain two machine learning applications in the business world. What are some of the ethical concerns that machine learning applications could raise?"
   ]
  },
  {
   "cell_type": "markdown",
   "id": "198d5c22",
   "metadata": {},
   "source": [
    "Machine learning is a subset of artificial intelligence (AI) that teaches computers to think as humans do: Learning and improving from past experiences. It used to explore data, identify patterns, and involves minimal human intervention. It trains the model on training data and then predicts the results for the testing data.\n",
    "Various applications of Machine Learning in Business World:\n",
    "1.\tDecision Making using -ML, DL, CV models\n",
    "2.\tCustomer Segmentation, Churn modelling\n",
    "3.\tChatbot support \n",
    "There are 3 ethical concerns also due to machine learning which are Privacy and surveillance, bias and discrimination, and last is the role of human judgement. \n"
   ]
  },
  {
   "cell_type": "markdown",
   "id": "34da355a",
   "metadata": {},
   "source": [
    "## 2. Describe the process of human learning."
   ]
  },
  {
   "cell_type": "markdown",
   "id": "1424b558",
   "metadata": {},
   "source": [
    "i. Under the supervision of experts\n",
    "It is a Human-guided machine learning process whereby a subject matter experts accelerate the learning process by teaching the technology in real-time. For example, if the machine learning model comes across a piece of data it is uncertain about, a human can be asked to weigh in and give feedback. The model then learns from this input, and uses it to make a more accurate prediction the next time. Human-guided machine learning works from the bottom up by first using algorithms to conduct the heavy lifting of identifying relationships within the data, and engaging humans when necessary for training or validation Concept Learning.\n",
    "ii. With the assistance of experts in an indirect manner\n",
    "Algorithmic learning used to train and learn from the training dataset and can be thought as a teacher supervising the learning process. We know the correct answers, the algorithm iteratively makes predictions on the training data and is corrected by the teacher. Learning stops when the algorithm achieves an acceptable level of performance Operant Conditioning.\n",
    "iii. Self-education\n",
    "Ability to recognize patterns, learn from data, and take more intelligent decision over time. Machine Learning: AI systems has ability to learn and improve from experience without being explicitly programmed via training Hebbian Learning.\n"
   ]
  },
  {
   "cell_type": "markdown",
   "id": "3e54f6cd",
   "metadata": {},
   "source": [
    "## 3. Provide a few examples of various types of machine learning."
   ]
  },
  {
   "cell_type": "markdown",
   "id": "8e6d4d85",
   "metadata": {},
   "source": [
    "There 3 type of Machine learning problems: \n",
    "Supervised, Unsupervised and reinforcement Learning\n",
    "Supervised Learning: it is problem in which target variable is fixed. It can be regression or classification. One such example is -Email spam detection problems. In this problem, the goal is to predict the class of the email whether email is spam or not. One particularly popular topic in text classification is to predict the sentiment of a piece of text, like a tweet or a product review, Image segmentation, Medical Diagnosis and many more.\n",
    "\n",
    "Unsupervised Learning: it is problem in which target variable is not fixed or variable. Examples includes Customer segmentation, Anomaly detection, Clustering Analysis, Fraud detection, Malware detection, Identification of human errors during data entry Conducting accurate basket analysis, etc.\n",
    "\n",
    "Reinforcement Learning: Applications in Industry automation, self-driving cars : learning-based robots are used to perform various tasks.\n"
   ]
  },
  {
   "cell_type": "markdown",
   "id": "a98edc26",
   "metadata": {},
   "source": [
    "## 4. Examine the various forms of machine learning."
   ]
  },
  {
   "cell_type": "markdown",
   "id": "89c54df5",
   "metadata": {},
   "source": [
    "The various form of machine learning are supervised learning, unsupervised learning, and reinforcement learning."
   ]
  },
  {
   "cell_type": "markdown",
   "id": "bb3a5975",
   "metadata": {},
   "source": [
    "## 5. Can you explain what a well-posed learning problem is? Explain the main characteristics that must be present to identify a learning problem properly."
   ]
  },
  {
   "cell_type": "markdown",
   "id": "d5984a8e",
   "metadata": {},
   "source": [
    "Well Posed Learning Problem – \n",
    "Any problem can be segregated as well-posed learning problem if it has three traits – Task, Performance and Experience. The main characteristics are Task, performance, and experience. A computer program is said to learn from experience by performing tasks and performance is to be measured, and upgrades/ improvised with experience or based on past learning experience. \n"
   ]
  },
  {
   "cell_type": "markdown",
   "id": "50c0cdfa",
   "metadata": {},
   "source": [
    "## 6. Is machine learning capable of solving all problems? Give a detailed explanation of your answer."
   ]
  },
  {
   "cell_type": "markdown",
   "id": "a1de6b73",
   "metadata": {},
   "source": [
    "Ans. Machine Learning can be performed on almost all problems but there are some strings attached to it such as below:\n",
    "Limitations of Machine learning:\n",
    "1) Ethics: The most commonly discussed case currently is self-driving cars — how do we choose how the vehicle should react in the event of a fatal collision? In the future will we have to select which ethical framework we want our self-driving car to follow when we are purchasing the vehicle? If my self-driving car kills someone on the road, whose faults is it?\n",
    "\n",
    "2) Deterministic Problems: Machine learning is stochastic, not deterministic.\n",
    "\n",
    "3) Data: This is the most obvious limitation. If you feed a model poorly, then it will only give you poor results. This can manifest itself in two ways: lack of data, and lack of good data."
   ]
  },
  {
   "cell_type": "markdown",
   "id": "8a88d000",
   "metadata": {},
   "source": [
    "## 7. What are the various methods and technologies for solving machine learning problems? Any two of them should be defined in detail."
   ]
  },
  {
   "cell_type": "markdown",
   "id": "abadf0ea",
   "metadata": {},
   "source": [
    "The Various Technologies/ libraries used in Machine Learning Problems are: Scikit Learn, Pytorch, Tensorflow, Keras, Python.\n",
    "\n",
    "    1.\tScikit Learn: Scikit-learn (Sklearn) is the most useful and robust library for machine learning in Python. It provides a selection of efficient tools for machine learning and statistical modeling including classification, Regression, clustering and dimensionality reduction via a consistence interface in Python.\n",
    "\n",
    "    2.\tTensorflow: It is a open source artificial intelligence library, Using data flow graphs to build models. It allows developers to create large-scale neural networks with many layers. TensorFlow is mainly used for: Classification, Perception, Understanding, Discovering, Prediction and Creation by using CNN, RCNN models.\n",
    "The Various Methods used in Machine Learning Problems are: Regression, Classification, Dimensionality Reduction, Clustering, Ensembeling Techniques, Neural Network, Deep Learning, Transfer Learning, Reinforcement Learning, Natural Language Processing, Word Embeddings.\n"
   ]
  },
  {
   "cell_type": "markdown",
   "id": "71f644d3",
   "metadata": {},
   "source": [
    "## 8. Can you explain the various forms of supervised learning? Explain each one with an example application."
   ]
  },
  {
   "cell_type": "markdown",
   "id": "e101c223",
   "metadata": {},
   "source": [
    "There are various types of supervised learning such as regression, classification, decision tree, random forest, Xg boost, and gradient boost.\n",
    "1.\tRegression: In regression, a single continuous output value is produced using training data. For example, regression can help predict the price of a house based on few independent features or driving range of EV Vehicle can be predicted based on independent feature etc.\n",
    "2.\tClassification: It involves class in the data for example If you are thinking of providing credit to a person, you can use classification technique to determine whether or not a person would be a credit defaulter.\n",
    "3.\tNaive Bayesian Model: The Bayesian model of classification is used for large finite datasets. It is a method of assigning class labels using a direct acyclic graph.\n",
    "4.\tDecision Trees: A decision tree is a flowchart-like model that contains conditional control statements, comprising decisions and their probable consequences. The output relates to the labelling of unforeseen data.\n",
    "\n",
    "\n",
    "\n"
   ]
  },
  {
   "cell_type": "markdown",
   "id": "1626fd48",
   "metadata": {},
   "source": [
    "## 9. What is the difference between supervised and unsupervised learning? With a sample application in each region, explain the differences."
   ]
  },
  {
   "cell_type": "markdown",
   "id": "1120990a",
   "metadata": {},
   "source": [
    "Supervised learning algorithms are trained using labelled data or when target column is given. Unsupervised learning algorithms are trained using unlabelled data. In unsupervised learning, only input data is provided to the model.\n",
    "Examples:\n",
    "Supervised Learning: Classification and Regression.\n",
    "Unsupervised Learning: Clustering"
   ]
  },
  {
   "cell_type": "markdown",
   "id": "5fa81fdf",
   "metadata": {},
   "source": [
    "## 10. Describe the machine learning process in depth."
   ]
  },
  {
   "cell_type": "markdown",
   "id": "13b26420",
   "metadata": {},
   "source": [
    "a. Make brief notes on any two of the following:\n",
    "\n",
    "        ii. Deep learning applications in healthcare\n",
    "Deep learning provides the healthcare industry with the ability to analyse the data at exceptional speeds and accuracy. It’s an elegant blend of ML and DL both in which they use a layered algorithmic architecture to train through data. The benefits of deep learning in healthcare are plentiful – fast, efficient, accurate. Even more benefits lie within the neural networks formed by multiple layers of AI and ML and their ability to learn. Yes, the secret to deep learning’s success is in the name – learning.\n",
    "Like we can detect the cancer cells in the images, we can also detect the brain tumour in the MRI scans, and we can also visualise the 3 D images of MRI Scan for detection.\n",
    "\n",
    "         iv. Linear regression (simple)\n",
    "Linear Regression is used to describe the relationship between variables by fitting a line to the independent variables. Linear regression models use a straight line, while logistic (Sigmoid function) and nonlinear regression models use a curved line. Regression allows you to estimate how a dependent variable changes with respect to the change in independent variable(s)."
   ]
  },
  {
   "cell_type": "markdown",
   "id": "de45e070",
   "metadata": {},
   "source": [
    "## 11. Make a comparison between: "
   ]
  },
  {
   "cell_type": "markdown",
   "id": "9a02330b",
   "metadata": {},
   "source": [
    "\n",
    "         1. Generalization and abstraction\n",
    "Abstraction is the process of removing details of objects. And Generalization, then, is the formulation of general concepts from specific instances by abstracting common properties. A concrete object can be looked at as a “subset” of a more generalized object.\n",
    "\n",
    "\n",
    "          2. Learning that is guided and unsupervised\n",
    "Supervised learning is the method that trains machines to use data that is well classified and labelled. Whereas Unsupervised learning, on the other hand, is the method that trains machines to use data that is neither classified nor labelled.\n",
    "\n",
    "\n",
    "           3.\tRegression and classification\n",
    "           \n",
    "a.\tRegression Models – Regression models are used for problems where the output variable is a continuous number, dollars, salary, weight or pressure, for example. It is generally used to predict numerical values based on previous data observations. Some of the more familiar regression algorithms include linear regression, logistic regression, polynomial regression, lasso regression and ridge regression.\n",
    "\n",
    "b.\tClassification Models – Classification models are used for problems where the output variable is given categorized, such as Yes/ No/ Neutral, Pass/ Fail or defining classes of the data. Classification Models are used to predict the category of the data. Real-life examples include customer segmentation, spam detection, sentiment analysis etc.\n"
   ]
  }
 ],
 "metadata": {
  "kernelspec": {
   "display_name": "Python 3 (ipykernel)",
   "language": "python",
   "name": "python3"
  },
  "language_info": {
   "codemirror_mode": {
    "name": "ipython",
    "version": 3
   },
   "file_extension": ".py",
   "mimetype": "text/x-python",
   "name": "python",
   "nbconvert_exporter": "python",
   "pygments_lexer": "ipython3",
   "version": "3.9.12"
  }
 },
 "nbformat": 4,
 "nbformat_minor": 5
}
