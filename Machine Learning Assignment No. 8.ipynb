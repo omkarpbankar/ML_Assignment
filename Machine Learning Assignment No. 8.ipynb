{
 "cells": [
  {
   "cell_type": "markdown",
   "metadata": {},
   "source": [
    "**1. What exactly is a feature? Give an example to illustrate your point.**"
   ]
  },
  {
   "cell_type": "markdown",
   "metadata": {},
   "source": [
    "**Solution:-** Any tangible, measurable data in form of a list, or column that becomes the independent variable for any machine learning modelling problem, is called a feature.\n",
    "\n",
    "Features are the basic building blocks of datasets. The quality of the features in your dataset has a major impact on the quality of the insights you will gain when you use that dataset for machine learning.\n",
    "\n",
    "Additionally, different business problems within the same industry do not necessarily require the same features, which is why it is important to have a strong understanding of the business goals of your data science project."
   ]
  },
  {
   "cell_type": "code",
   "execution_count": 1,
   "metadata": {},
   "outputs": [],
   "source": [
    "exp = [4,5,3,4,3,7,9,10,3,2,4] #An example for a randomly sampled experience feature\n",
    "salary = [25000,30000,20000,25000,20000,60000,80000,100000,20000,15000,25000] #target variable values for each independent var\n",
    "#From above feature exp, linear regression can be trained to predict the target variable salary."
   ]
  },
  {
   "cell_type": "code",
   "execution_count": 2,
   "metadata": {},
   "outputs": [
    {
     "name": "stdout",
     "output_type": "stream",
     "text": [
      "[4, 5, 3, 4, 3, 7, 9, 10, 3, 2, 4]\n",
      "[25000, 30000, 20000, 25000, 20000, 60000, 80000, 100000, 20000, 15000, 25000]\n"
     ]
    }
   ],
   "source": [
    "print(exp)\n",
    "print(salary)"
   ]
  },
  {
   "cell_type": "markdown",
   "metadata": {},
   "source": [
    "**2. What are the various circumstances in which feature construction is required?**"
   ]
  },
  {
   "cell_type": "markdown",
   "metadata": {},
   "source": [
    "**Solution:-** \n",
    "The features in your data will directly influence the predictive models you use and the results you can achieve. Your results are dependent on many inter-dependent properties. You need great features that describe the structures inherent in your data. Better features means flexibility.\n",
    "\n",
    "1. When more accurate model has to be created from limited data at hand. \n",
    "2. When we need to create a generalize model.\n",
    "3. When improvement in model interpretability is required."
   ]
  },
  {
   "cell_type": "markdown",
   "metadata": {},
   "source": [
    "**3. Describe how nominal variables are encoded.**"
   ]
  },
  {
   "cell_type": "markdown",
   "metadata": {},
   "source": [
    "**Solution:-** Nominal data is made of discrete values with no numerical relationship between the different categories — mean and median are meaningless. Animal species is one example. For example, pig is not higher than bird and lower than fish.\n",
    "\n",
    "Nominal variables can be encoded in several ways\n",
    "\n",
    "1. One Hot Encoding Binary columns equal to the number of class labels present in the nominal variable are created in the form of sparse matrix, such that 0 indicates absence of a class label in a binary column and 1 indicates presence of a class label. Large number of such new variables or dummy variables can lead to the problem of dummy variable trap.\n",
    "\n",
    "2. Integer Encoding Values of a nominal variable can be changed into integer values. A column containing class labels New Delhi and Mumbai can be encoded into integer values in the form of 1 and 2."
   ]
  },
  {
   "cell_type": "markdown",
   "metadata": {},
   "source": [
    "**4. Describe how numeric features are converted to categorical features.**"
   ]
  },
  {
   "cell_type": "markdown",
   "metadata": {},
   "source": [
    "**Solution:-** Numeric features or ordinal features can be converted into categorical features by putting values of a numerical feature into bins or intervals. These intervals then become class labels and the feature becomes a categorical feature.\n",
    "\n",
    "For example, we are given a list of countries and say we know the distance to these countries from India then we can replace it with distance from India. So, every country can be represented as its distance from India."
   ]
  },
  {
   "cell_type": "markdown",
   "metadata": {},
   "source": [
    "**5. Describe the feature selection wrapper approach. State the advantages and disadvantages of this approach?**"
   ]
  },
  {
   "cell_type": "markdown",
   "metadata": {},
   "source": [
    "**Solution:-** Wrapper approach is an iterative approach in feature selection where all combinations of subset of features is used to train the model and a perfomance metric is used to test the model and check of there is an improvement of score over the previous iteration where a different subset of features were used. Examples of this technique are forward feature selection and backward feature selection.\n",
    "\n",
    "Advantage is that it works better than filter approach. Disadvantage is that it requires a lot of time to compute feature selection."
   ]
  },
  {
   "cell_type": "markdown",
   "metadata": {},
   "source": [
    "**6. When is a feature considered irrelevant? What can be said to quantify it?**"
   ]
  },
  {
   "cell_type": "markdown",
   "metadata": {},
   "source": [
    "**Solution:-** A feature is considered irrelevant when it does not contribute or is detrimental to the performance of a model. Feature selection methods can be used to quantify a feature's relevance. For example, in a Multiple Linear Regression problem, correlation coefficient can be used to quantify relevance of a feature.\n",
    "\n",
    "Techniques like forward feature selection can be used to iteratively quantify which features do not contribute to the accuracy of a machine learning model and can be removed.\n",
    "\n",
    "Feature importance is supported by many machine learning models like Decision Trees and it can be used to quantify relevance of features.\n",
    "\n",
    "-**Wrapper methods** (forward, backward, and stepwise selection)\n",
    "\n",
    "-**Filter methods** (ANOVA, Pearson correlation, variance thresholding)\n",
    "\n",
    "-**Embedded methods** (Lasso, Ridge, Decision Tree)."
   ]
  },
  {
   "cell_type": "markdown",
   "metadata": {},
   "source": [
    "**7. When is a function considered redundant? What criteria are used to identify features that could be redundant?**"
   ]
  },
  {
   "cell_type": "markdown",
   "metadata": {},
   "source": [
    "**Solution:-** A feature is considered redundant when it does not contribute to the performance of a model by providing unique information.\n",
    "\n",
    "Criteria like Multicollinearity, non-unique information contribution, low feature importance score, little to no improvement in performance during forward and backward feature selection techniques, ANOVA etc help identify features that could be redundant.\n",
    "\n",
    "Minimum redundancy feature selection is an algorithm frequently used in a method to accurately identify characteristics of genes and phenotypes"
   ]
  },
  {
   "cell_type": "markdown",
   "metadata": {},
   "source": [
    "**8. What are the various distance measurements used to determine feature similarity?**"
   ]
  },
  {
   "cell_type": "markdown",
   "metadata": {},
   "source": [
    "**Solution:-** \n",
    "**1. Euclidean(L2) Distance:---** The most commonly used measure of distance, it is the length of shortest line between any two points x1 and x2. For any 2 dimensional data, we can write the formula as d = ((p1-q1)^2+(p2-q2)^2)^1/2\n",
    "\n",
    "\n",
    "**2. Minkowski Distance:---** It is a generalization of both Euclidean and Manhattan Distance. d=(sigma(|pi-qi|^p))^1/p where p is the value of order of normalization. When p=1, it represents Manhattan Distance and when p=2, it represents Euclidean Distance.\n",
    "\n",
    "\n",
    "**3. Hamming Distance:---** It is measured as the number of locations at which binary vectors or binary values from two features differ. Hamming distance becomes very important while handling data of gene sequencing and gene code.\n",
    "\n",
    "\n",
    "**4. Manhattan(L1) Distance:---** Sum of absolute differences between points across all dimensions. It can be written as d=sigma(|pi-qi|) where pi and qi are values for i to n data points."
   ]
  },
  {
   "cell_type": "markdown",
   "metadata": {},
   "source": [
    "**9. State difference between Euclidean and Manhattan distances?**"
   ]
  },
  {
   "cell_type": "markdown",
   "metadata": {},
   "source": [
    "**Solution:-** Euclidean distance is the length of the shortest line between any two points x1 and x2. Manhattan distance is the sum of absolute differences between points across all dimensions.\n",
    "\n",
    "Euclidean distance is mathematically written d = ((p1-q1)^2+(p2-q2)^2)^1/2. Manhattan distance is d=sigma(|pi-qi|) where pi and qi are values for i to n data points.\n",
    "\n",
    "Euclidean Distance performs poorly on high dimensional data. Manhattan distance works better than Euclidean Distance for high dimensional data.\n",
    "\n",
    "Hamming distance is frequently encountered in the analysis of block codes."
   ]
  },
  {
   "cell_type": "markdown",
   "metadata": {},
   "source": [
    "**10. Distinguish between feature transformation and feature selection.**"
   ]
  },
  {
   "cell_type": "markdown",
   "metadata": {},
   "source": [
    "**Solution:-** \n",
    "- Feature Transforming is transforming datapoints into higher or lower dimension, or simply into features that can be used better for training phase and creating new features from existing features is called Feature Engineering. \n",
    "\n",
    "- Feature Selection is a method used in which techniques can be used to select features based on their contribution to the model both information and performance-wise."
   ]
  },
  {
   "cell_type": "markdown",
   "metadata": {},
   "source": [
    "**11. Make brief notes on any two of the following:**\n",
    "\n",
    "**Solution:-**\n",
    "\n",
    "**iii. The width of the silhouette**\n",
    "\n",
    "Estimate of average inter cluster distance to give efficacy/performance of cluster algorithms is called width of the silhouette. It can also be defined as how identical/similar a data point 'x' is to the data points inside the cluster to which x is assigned. Its value ranges from -1 to 1 where 1 means good and -1 means bad.\n",
    "\n",
    "**iv. Receiver operating characteristic curve**\n",
    "\n",
    "Curve plotted between True Positive Rate and False Positive Rate is Receiver Operating Characteristics curve and is used to find the area under the curve for ROC-AUC score for binary classification evaluation. True Positive Rate is calculated as Number of positives that were correctly classified divided by total number of positives. False Positive Rate is calculated as the number of positives incorrectly classified divided by total number of negatives.\n",
    "\n",
    "True Positive Rate and False Positive Rate are calculated for different thresholds values where thresholds take values starting from the highest probability scores assigned to data points and goes up to the lowest probability score.\n",
    "\n",
    "The curve is impacted by presence of outliers, and simple models. Extensions can be made to this curve to suit multiclass classification evaluation requirements."
   ]
  },
  {
   "cell_type": "code",
   "execution_count": null,
   "metadata": {},
   "outputs": [],
   "source": []
  }
 ],
 "metadata": {
  "kernelspec": {
   "display_name": "Python 3 (ipykernel)",
   "language": "python",
   "name": "python3"
  },
  "language_info": {
   "codemirror_mode": {
    "name": "ipython",
    "version": 3
   },
   "file_extension": ".py",
   "mimetype": "text/x-python",
   "name": "python",
   "nbconvert_exporter": "python",
   "pygments_lexer": "ipython3",
   "version": "3.9.12"
  }
 },
 "nbformat": 4,
 "nbformat_minor": 4
}
