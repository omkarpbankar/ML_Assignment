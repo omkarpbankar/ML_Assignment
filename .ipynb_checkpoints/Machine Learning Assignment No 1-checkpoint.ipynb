{
 "cells": [
  {
   "cell_type": "markdown",
   "id": "5698ded5",
   "metadata": {},
   "source": [
    "# 1.\tHow would you define Machine Learning?"
   ]
  },
  {
   "cell_type": "markdown",
   "id": "0cbab91c",
   "metadata": {},
   "source": [
    "Machine Learning means using mathematical algorithms, and building up a relationship between dependent and independent feature by optimizing some important parameters, which are coefficients and intercept, in such a way that when we can be able to predict the value of the dependent variable, it has very minimum or optimum error or residual."
   ]
  },
  {
   "cell_type": "markdown",
   "id": "cdaed7a3",
   "metadata": {},
   "source": [
    "# 2.\tCan you name 4 types of problems where it shines?"
   ]
  },
  {
   "cell_type": "markdown",
   "id": "367ca40d",
   "metadata": {},
   "source": [
    "1) Spam detection in email, \n",
    "2) Diagnosing Cancer, \n",
    "3) Detecting Fraudulent credit card transactions, \n",
    "4) Automatically driving vehicles \n",
    "5) Future Sales Prediction"
   ]
  },
  {
   "cell_type": "markdown",
   "id": "0c66b168",
   "metadata": {},
   "source": [
    "# 3.\tWhat is a labeled training set, and how does it work?"
   ]
  },
  {
   "cell_type": "markdown",
   "id": "41c65a77",
   "metadata": {},
   "source": [
    "Labelled training set refer to that data in which variables is marked with label, or class name. Example: Result is a target variable name and its labels are Pass and Fail.\n",
    "When the model is trained on labelled training data set then the data is marked as the labelled based on the training so that when we give the test data without labels for prediction then the model could be able to predict the labels with the minimum errors.\n"
   ]
  },
  {
   "cell_type": "markdown",
   "id": "fc3fca05",
   "metadata": {},
   "source": [
    "## 4.\tWhat are the two most important tasks that are supervised?"
   ]
  },
  {
   "cell_type": "markdown",
   "id": "9422c765",
   "metadata": {},
   "source": [
    "In supervised learning, target variables are given. and un supervised task target variable is not given. The two most important supervised tasks are:\n",
    "1) Regression- Target variables are numerical in nature.\n",
    "\n",
    "2) Classification- Target variables are categorical in nature\n"
   ]
  },
  {
   "cell_type": "markdown",
   "id": "d16c3676",
   "metadata": {},
   "source": [
    "## 5.\tCan you think of four examples of unsupervised tasks?"
   ]
  },
  {
   "cell_type": "markdown",
   "id": "fb562d8d",
   "metadata": {},
   "source": [
    "In unsupervised learning, there is no target output column.\n",
    "The four basic unsupervised tasked are:\n",
    "\n",
    "1) clustering: Creating a similar group for individual observation.\n",
    "2) visualization: Visualizing the data into different clusters.\n",
    "3) Dimensionality reduction: If there is a huge number of feature then there are chances of overfitting due to curse of dimensionality. So, we try to reduce the number of features into few components. By using PCA etc\n",
    "4) Association rule-based learning\n"
   ]
  },
  {
   "cell_type": "markdown",
   "id": "21e6a35c",
   "metadata": {},
   "source": [
    "## 6.\tState the machine learning model that would be best to make a robot walk through various unfamiliar terrains?"
   ]
  },
  {
   "cell_type": "markdown",
   "id": "5803711b",
   "metadata": {},
   "source": [
    "Reinforced Learning model is a model in which robot can learn from response, retrain and optimize itself. "
   ]
  },
  {
   "cell_type": "markdown",
   "id": "a4df5b67",
   "metadata": {},
   "source": [
    "## 7.\tWhich algorithm will you use to divide your customers into different groups?"
   ]
  },
  {
   "cell_type": "markdown",
   "id": "8effa3b3",
   "metadata": {},
   "source": [
    "Clustering algorithms can be used the divide the customer into different groups. \n",
    "Clustering Algorithm - DBSCAN, and K means.\n"
   ]
  },
  {
   "cell_type": "markdown",
   "id": "38e7ca37",
   "metadata": {},
   "source": [
    "## 8.\tWill you consider the problem of spam detection to be a supervised or unsupervised learning problem?"
   ]
  },
  {
   "cell_type": "markdown",
   "id": "850fc16f",
   "metadata": {},
   "source": [
    "Spam detection is a supervised machine learning task because in this we provide the labels to target feature such as (spam or no spam)."
   ]
  },
  {
   "cell_type": "markdown",
   "id": "b16c9711",
   "metadata": {},
   "source": [
    "## 9.\tWhat is the concept of an online learning system?"
   ]
  },
  {
   "cell_type": "markdown",
   "id": "f88ec6b8",
   "metadata": {},
   "source": [
    "It refers to the learning that we can get from the internet. Online learning system is a learning system in which the machine learns as data is given in small streams continuously."
   ]
  },
  {
   "cell_type": "markdown",
   "id": "2db35b10",
   "metadata": {},
   "source": [
    "## 10.\tWhat is out-of-core learning, and how does it differ from core learning?"
   ]
  },
  {
   "cell_type": "markdown",
   "id": "1db613ca",
   "metadata": {},
   "source": [
    "Out-of-core learning system is used when a dataset is too large to fit into a computer's memory. So we uses online learning system to feed data in small bits. The algorithm loads the data into small parts, runs the training step, then repeats the training process until it is trained on all data."
   ]
  },
  {
   "cell_type": "markdown",
   "id": "02c4d366",
   "metadata": {},
   "source": [
    "## 11.\tWhat kind of learning algorithm makes predictions using a similarity measure?"
   ]
  },
  {
   "cell_type": "markdown",
   "id": "1e167955",
   "metadata": {},
   "source": [
    "Instance-based learning algorithms use a similarity measure to generalize and make prediction for new cases. "
   ]
  },
  {
   "cell_type": "markdown",
   "id": "222e606e",
   "metadata": {},
   "source": [
    "## 12.\tWhat’s the difference between a model parameter and a hyperparameter in a learning algorithm?"
   ]
  },
  {
   "cell_type": "markdown",
   "id": "998d42b6",
   "metadata": {},
   "source": [
    "Model parameter determines how the model will predict the result; model usually has more than one parameter.\n",
    "A hyperparameter is a parameter of the learning algorithm, not the model. For example, in Linear regression task our model is parameterized by theta which is a vector of weights. In order to find the best values for theta we have a cost function which is run repeatedly by the gradient descent algorithm. Gradient descent has a hyperparameter called alpha which is the learning rate of the algorithm."
   ]
  },
  {
   "cell_type": "markdown",
   "id": "f33f1636",
   "metadata": {},
   "source": [
    "## 13.\tWhat are the criteria that model-based learning algorithms look for? What is the most popularmethod they use to achieve success? What method do they use to make predictions?"
   ]
  },
  {
   "cell_type": "markdown",
   "id": "1a4184a4",
   "metadata": {},
   "source": [
    "The goal of a model-based algorithm is to build a generalize model. To achieve this, model based algorithms find the optimal values for the model's parameters, often called theta. Model-based system learns to minimizing a cost function that measures how bad the system is at making predictions on new data, and add a penalty to model for complexity if regularization technique is performed on the model. To make the prediction, a new instance's features are fed into a hypothesis function which uses the minimized theta found by repeatedly running the cost function."
   ]
  },
  {
   "cell_type": "markdown",
   "id": "e6efb906",
   "metadata": {},
   "source": [
    "## 14.\tCan you name four of the most important Machine Learning challenges?"
   ]
  },
  {
   "cell_type": "markdown",
   "id": "0efa0d89",
   "metadata": {},
   "source": [
    "Four main challenges in Machine Learning include \n",
    "a.\tOverfitting the data- using too complicated model. Maximum fit on training data and fail to produce similar accuracy on test data\n",
    "b.\tUnderfitting the data- using a simple model\n",
    "c.\tLack of data\n",
    "d.\tNonrepresentative data"
   ]
  },
  {
   "cell_type": "markdown",
   "id": "d9320e0c",
   "metadata": {},
   "source": [
    "## 15.\tWhat happens if the model performs well on the training data but fails to generalize the results to new situations? Can you think of three different options?"
   ]
  },
  {
   "cell_type": "markdown",
   "id": "941eb65b",
   "metadata": {},
   "source": [
    "This is an overfitting of the model and happens when model perform poorly on test dataset. To overcome overfitting, we use the following techniques:\n",
    "1) Reduce the complexity of the model by removing features or constraining the parameters dimension reduction technique such as PCA.\n",
    "2) Get more data.\n",
    "3) Reducing noise in the data by fixing errors and removing outliers.\n"
   ]
  },
  {
   "cell_type": "markdown",
   "id": "f04b490a",
   "metadata": {},
   "source": [
    "## 16.\tWhat exactly is a test set, and why would you need one?"
   ]
  },
  {
   "cell_type": "markdown",
   "id": "83e3b98b",
   "metadata": {},
   "source": [
    "Test set is a set which we will use to test the model and it is also used to check the performance or accuracy of the model. "
   ]
  },
  {
   "cell_type": "markdown",
   "id": "497854a9",
   "metadata": {},
   "source": [
    "## 17.\tWhat is a validation set’s purpose?"
   ]
  },
  {
   "cell_type": "markdown",
   "id": "07d3c161",
   "metadata": {},
   "source": [
    "In cross validation we generally used validation set. Validation set check the model accuracy on different samples of data and then decide the best possible prediction for the model."
   ]
  },
  {
   "cell_type": "markdown",
   "id": "73393682",
   "metadata": {},
   "source": [
    "## 18.\tWhat precisely is the train-dev kit, when will you need it, how do you put it to use?"
   ]
  },
  {
   "cell_type": "markdown",
   "id": "c75e8fe0",
   "metadata": {},
   "source": [
    "The goal of train dev-set is to rank the models in term of their accuracy and helps us decide which model to proceed further with. Using Dev set we can rank our models in terms of their accuracy and select the best performing model."
   ]
  },
  {
   "cell_type": "markdown",
   "id": "dc72e215",
   "metadata": {},
   "source": [
    "## 19.\tWhat could go wrong if you use the test set to tune hyperparameters?"
   ]
  },
  {
   "cell_type": "markdown",
   "id": "aa96f22b",
   "metadata": {},
   "source": [
    "Model will not be generalizable to new examples. If we use this data to choose hyperparameters, model will get a chance to \"see\" the test data which is a unseen data and to develop a bias towards this test data. Therefore, we actually lose the possibility to find out how good our model would actually be on unseen data."
   ]
  }
 ],
 "metadata": {
  "kernelspec": {
   "display_name": "Python 3 (ipykernel)",
   "language": "python",
   "name": "python3"
  },
  "language_info": {
   "codemirror_mode": {
    "name": "ipython",
    "version": 3
   },
   "file_extension": ".py",
   "mimetype": "text/x-python",
   "name": "python",
   "nbconvert_exporter": "python",
   "pygments_lexer": "ipython3",
   "version": "3.9.12"
  }
 },
 "nbformat": 4,
 "nbformat_minor": 5
}
